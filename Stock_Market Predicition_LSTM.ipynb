{
 "cells": [
  {
   "cell_type": "code",
   "execution_count": 1,
   "id": "f4ee438d",
   "metadata": {},
   "outputs": [
    {
     "name": "stderr",
     "output_type": "stream",
     "text": [
      "Using TensorFlow backend.\n"
     ]
    }
   ],
   "source": [
    "import pandas as pd\n",
    "import numpy as np\n",
    "import matplotlib.pyplot as plt\n",
    "\n",
    "from sklearn.preprocessing import MinMaxScaler\n",
    "from keras.models import Sequential\n",
    "from keras.layers import Dense,LSTM,Dropout"
   ]
  },
  {
   "cell_type": "code",
   "execution_count": 2,
   "id": "f7bb65cc",
   "metadata": {},
   "outputs": [],
   "source": [
    "data=pd.read_csv(\"/Users/pavankumar/Desktop/reliance_data.csv\")"
   ]
  },
  {
   "cell_type": "code",
   "execution_count": 3,
   "id": "44fec8ac",
   "metadata": {},
   "outputs": [
    {
     "data": {
      "text/plain": [
       "(6205, 15)"
      ]
     },
     "execution_count": 3,
     "metadata": {},
     "output_type": "execute_result"
    }
   ],
   "source": [
    "data.shape"
   ]
  },
  {
   "cell_type": "code",
   "execution_count": 4,
   "id": "506c8fb9",
   "metadata": {},
   "outputs": [
    {
     "name": "stdout",
     "output_type": "stream",
     "text": [
      "<class 'pandas.core.frame.DataFrame'>\n",
      "RangeIndex: 6205 entries, 0 to 6204\n",
      "Data columns (total 15 columns):\n",
      " #   Column              Non-Null Count  Dtype  \n",
      "---  ------              --------------  -----  \n",
      " 0   Date                6205 non-null   object \n",
      " 1   Symbol              6205 non-null   object \n",
      " 2   Series              6205 non-null   object \n",
      " 3   Prev Close          6205 non-null   float64\n",
      " 4   Open                6205 non-null   float64\n",
      " 5   High                6205 non-null   float64\n",
      " 6   Low                 6205 non-null   float64\n",
      " 7   Last                5657 non-null   float64\n",
      " 8   Close               6205 non-null   float64\n",
      " 9   VWAP                6205 non-null   float64\n",
      " 10  Volume              6205 non-null   int64  \n",
      " 11  Turnover            6205 non-null   float64\n",
      " 12  Trades              2356 non-null   float64\n",
      " 13  Deliverable Volume  4693 non-null   float64\n",
      " 14  %Deliverble         4693 non-null   float64\n",
      "dtypes: float64(11), int64(1), object(3)\n",
      "memory usage: 727.3+ KB\n"
     ]
    }
   ],
   "source": [
    "data.info()\n",
    "# close column is object type, ned to be convert to float64"
   ]
  },
  {
   "cell_type": "code",
   "execution_count": 5,
   "id": "94c7d5e0",
   "metadata": {},
   "outputs": [
    {
     "data": {
      "text/html": [
       "<div>\n",
       "<style scoped>\n",
       "    .dataframe tbody tr th:only-of-type {\n",
       "        vertical-align: middle;\n",
       "    }\n",
       "\n",
       "    .dataframe tbody tr th {\n",
       "        vertical-align: top;\n",
       "    }\n",
       "\n",
       "    .dataframe thead th {\n",
       "        text-align: right;\n",
       "    }\n",
       "</style>\n",
       "<table border=\"1\" class=\"dataframe\">\n",
       "  <thead>\n",
       "    <tr style=\"text-align: right;\">\n",
       "      <th></th>\n",
       "      <th>Date</th>\n",
       "      <th>Symbol</th>\n",
       "      <th>Series</th>\n",
       "      <th>Prev Close</th>\n",
       "      <th>Open</th>\n",
       "      <th>High</th>\n",
       "      <th>Low</th>\n",
       "      <th>Last</th>\n",
       "      <th>Close</th>\n",
       "      <th>VWAP</th>\n",
       "      <th>Volume</th>\n",
       "      <th>Turnover</th>\n",
       "      <th>Trades</th>\n",
       "      <th>Deliverable Volume</th>\n",
       "      <th>%Deliverble</th>\n",
       "    </tr>\n",
       "  </thead>\n",
       "  <tbody>\n",
       "    <tr>\n",
       "      <th>0</th>\n",
       "      <td>01-01-1996</td>\n",
       "      <td>RELIANCE</td>\n",
       "      <td>EQ</td>\n",
       "      <td>204.65</td>\n",
       "      <td>205.00</td>\n",
       "      <td>206.10</td>\n",
       "      <td>203.65</td>\n",
       "      <td>NaN</td>\n",
       "      <td>205.75</td>\n",
       "      <td>205.26</td>\n",
       "      <td>3717450</td>\n",
       "      <td>7.630000e+13</td>\n",
       "      <td>NaN</td>\n",
       "      <td>NaN</td>\n",
       "      <td>NaN</td>\n",
       "    </tr>\n",
       "    <tr>\n",
       "      <th>1</th>\n",
       "      <td>02-01-1996</td>\n",
       "      <td>RELIANCE</td>\n",
       "      <td>EQ</td>\n",
       "      <td>205.75</td>\n",
       "      <td>205.25</td>\n",
       "      <td>206.25</td>\n",
       "      <td>202.65</td>\n",
       "      <td>NaN</td>\n",
       "      <td>204.15</td>\n",
       "      <td>204.13</td>\n",
       "      <td>6024650</td>\n",
       "      <td>1.230000e+14</td>\n",
       "      <td>NaN</td>\n",
       "      <td>NaN</td>\n",
       "      <td>NaN</td>\n",
       "    </tr>\n",
       "    <tr>\n",
       "      <th>2</th>\n",
       "      <td>03-01-1996</td>\n",
       "      <td>RELIANCE</td>\n",
       "      <td>EQ</td>\n",
       "      <td>204.15</td>\n",
       "      <td>207.50</td>\n",
       "      <td>216.95</td>\n",
       "      <td>205.25</td>\n",
       "      <td>NaN</td>\n",
       "      <td>205.70</td>\n",
       "      <td>207.04</td>\n",
       "      <td>7473500</td>\n",
       "      <td>1.550000e+14</td>\n",
       "      <td>NaN</td>\n",
       "      <td>NaN</td>\n",
       "      <td>NaN</td>\n",
       "    </tr>\n",
       "    <tr>\n",
       "      <th>3</th>\n",
       "      <td>04-01-1996</td>\n",
       "      <td>RELIANCE</td>\n",
       "      <td>EQ</td>\n",
       "      <td>205.70</td>\n",
       "      <td>203.75</td>\n",
       "      <td>204.40</td>\n",
       "      <td>201.05</td>\n",
       "      <td>NaN</td>\n",
       "      <td>203.80</td>\n",
       "      <td>202.47</td>\n",
       "      <td>7744000</td>\n",
       "      <td>1.570000e+14</td>\n",
       "      <td>NaN</td>\n",
       "      <td>NaN</td>\n",
       "      <td>NaN</td>\n",
       "    </tr>\n",
       "    <tr>\n",
       "      <th>4</th>\n",
       "      <td>05-01-1996</td>\n",
       "      <td>RELIANCE</td>\n",
       "      <td>EQ</td>\n",
       "      <td>203.80</td>\n",
       "      <td>203.00</td>\n",
       "      <td>203.00</td>\n",
       "      <td>200.65</td>\n",
       "      <td>NaN</td>\n",
       "      <td>202.40</td>\n",
       "      <td>202.05</td>\n",
       "      <td>5952000</td>\n",
       "      <td>1.200000e+14</td>\n",
       "      <td>NaN</td>\n",
       "      <td>NaN</td>\n",
       "      <td>NaN</td>\n",
       "    </tr>\n",
       "  </tbody>\n",
       "</table>\n",
       "</div>"
      ],
      "text/plain": [
       "         Date    Symbol Series  Prev Close    Open    High     Low  Last  \\\n",
       "0  01-01-1996  RELIANCE     EQ      204.65  205.00  206.10  203.65   NaN   \n",
       "1  02-01-1996  RELIANCE     EQ      205.75  205.25  206.25  202.65   NaN   \n",
       "2  03-01-1996  RELIANCE     EQ      204.15  207.50  216.95  205.25   NaN   \n",
       "3  04-01-1996  RELIANCE     EQ      205.70  203.75  204.40  201.05   NaN   \n",
       "4  05-01-1996  RELIANCE     EQ      203.80  203.00  203.00  200.65   NaN   \n",
       "\n",
       "    Close    VWAP   Volume      Turnover  Trades  Deliverable Volume  \\\n",
       "0  205.75  205.26  3717450  7.630000e+13     NaN                 NaN   \n",
       "1  204.15  204.13  6024650  1.230000e+14     NaN                 NaN   \n",
       "2  205.70  207.04  7473500  1.550000e+14     NaN                 NaN   \n",
       "3  203.80  202.47  7744000  1.570000e+14     NaN                 NaN   \n",
       "4  202.40  202.05  5952000  1.200000e+14     NaN                 NaN   \n",
       "\n",
       "   %Deliverble  \n",
       "0          NaN  \n",
       "1          NaN  \n",
       "2          NaN  \n",
       "3          NaN  \n",
       "4          NaN  "
      ]
     },
     "execution_count": 5,
     "metadata": {},
     "output_type": "execute_result"
    }
   ],
   "source": [
    "data.head()"
   ]
  },
  {
   "cell_type": "code",
   "execution_count": 6,
   "id": "bcdbd278",
   "metadata": {},
   "outputs": [
    {
     "data": {
      "text/html": [
       "<div>\n",
       "<style scoped>\n",
       "    .dataframe tbody tr th:only-of-type {\n",
       "        vertical-align: middle;\n",
       "    }\n",
       "\n",
       "    .dataframe tbody tr th {\n",
       "        vertical-align: top;\n",
       "    }\n",
       "\n",
       "    .dataframe thead th {\n",
       "        text-align: right;\n",
       "    }\n",
       "</style>\n",
       "<table border=\"1\" class=\"dataframe\">\n",
       "  <thead>\n",
       "    <tr style=\"text-align: right;\">\n",
       "      <th></th>\n",
       "      <th>Date</th>\n",
       "      <th>Symbol</th>\n",
       "      <th>Series</th>\n",
       "      <th>Prev Close</th>\n",
       "      <th>Open</th>\n",
       "      <th>High</th>\n",
       "      <th>Low</th>\n",
       "      <th>Last</th>\n",
       "      <th>Close</th>\n",
       "      <th>VWAP</th>\n",
       "      <th>Volume</th>\n",
       "      <th>Turnover</th>\n",
       "      <th>Trades</th>\n",
       "      <th>Deliverable Volume</th>\n",
       "      <th>%Deliverble</th>\n",
       "    </tr>\n",
       "  </thead>\n",
       "  <tbody>\n",
       "    <tr>\n",
       "      <th>6200</th>\n",
       "      <td>23-11-2020</td>\n",
       "      <td>RELIANCE</td>\n",
       "      <td>EQ</td>\n",
       "      <td>1899.50</td>\n",
       "      <td>1951.00</td>\n",
       "      <td>1970.00</td>\n",
       "      <td>1926.25</td>\n",
       "      <td>1955.20</td>\n",
       "      <td>1950.70</td>\n",
       "      <td>1952.18</td>\n",
       "      <td>20918665</td>\n",
       "      <td>4.083700e+15</td>\n",
       "      <td>497781.0</td>\n",
       "      <td>5148955.0</td>\n",
       "      <td>0.2461</td>\n",
       "    </tr>\n",
       "    <tr>\n",
       "      <th>6201</th>\n",
       "      <td>24-11-2020</td>\n",
       "      <td>RELIANCE</td>\n",
       "      <td>EQ</td>\n",
       "      <td>1950.70</td>\n",
       "      <td>1964.00</td>\n",
       "      <td>1974.00</td>\n",
       "      <td>1932.00</td>\n",
       "      <td>1971.05</td>\n",
       "      <td>1964.05</td>\n",
       "      <td>1952.11</td>\n",
       "      <td>14277083</td>\n",
       "      <td>2.787040e+15</td>\n",
       "      <td>362587.0</td>\n",
       "      <td>3213843.0</td>\n",
       "      <td>0.2251</td>\n",
       "    </tr>\n",
       "    <tr>\n",
       "      <th>6202</th>\n",
       "      <td>25-11-2020</td>\n",
       "      <td>RELIANCE</td>\n",
       "      <td>EQ</td>\n",
       "      <td>1964.05</td>\n",
       "      <td>1980.00</td>\n",
       "      <td>1992.95</td>\n",
       "      <td>1942.20</td>\n",
       "      <td>1947.50</td>\n",
       "      <td>1947.80</td>\n",
       "      <td>1969.06</td>\n",
       "      <td>15062376</td>\n",
       "      <td>2.965870e+15</td>\n",
       "      <td>356793.0</td>\n",
       "      <td>3040444.0</td>\n",
       "      <td>0.2019</td>\n",
       "    </tr>\n",
       "    <tr>\n",
       "      <th>6203</th>\n",
       "      <td>26-11-2020</td>\n",
       "      <td>RELIANCE</td>\n",
       "      <td>EQ</td>\n",
       "      <td>1947.80</td>\n",
       "      <td>1953.05</td>\n",
       "      <td>1965.00</td>\n",
       "      <td>1930.05</td>\n",
       "      <td>1957.00</td>\n",
       "      <td>1952.60</td>\n",
       "      <td>1946.67</td>\n",
       "      <td>11924527</td>\n",
       "      <td>2.321310e+15</td>\n",
       "      <td>266412.0</td>\n",
       "      <td>3406506.0</td>\n",
       "      <td>0.2857</td>\n",
       "    </tr>\n",
       "    <tr>\n",
       "      <th>6204</th>\n",
       "      <td>27-11-2020</td>\n",
       "      <td>RELIANCE</td>\n",
       "      <td>EQ</td>\n",
       "      <td>1952.60</td>\n",
       "      <td>1940.50</td>\n",
       "      <td>1956.10</td>\n",
       "      <td>1921.40</td>\n",
       "      <td>1940.50</td>\n",
       "      <td>1929.80</td>\n",
       "      <td>1935.45</td>\n",
       "      <td>21845931</td>\n",
       "      <td>4.228160e+15</td>\n",
       "      <td>314085.0</td>\n",
       "      <td>12489338.0</td>\n",
       "      <td>0.5717</td>\n",
       "    </tr>\n",
       "  </tbody>\n",
       "</table>\n",
       "</div>"
      ],
      "text/plain": [
       "            Date    Symbol Series  Prev Close     Open     High      Low  \\\n",
       "6200  23-11-2020  RELIANCE     EQ     1899.50  1951.00  1970.00  1926.25   \n",
       "6201  24-11-2020  RELIANCE     EQ     1950.70  1964.00  1974.00  1932.00   \n",
       "6202  25-11-2020  RELIANCE     EQ     1964.05  1980.00  1992.95  1942.20   \n",
       "6203  26-11-2020  RELIANCE     EQ     1947.80  1953.05  1965.00  1930.05   \n",
       "6204  27-11-2020  RELIANCE     EQ     1952.60  1940.50  1956.10  1921.40   \n",
       "\n",
       "         Last    Close     VWAP    Volume      Turnover    Trades  \\\n",
       "6200  1955.20  1950.70  1952.18  20918665  4.083700e+15  497781.0   \n",
       "6201  1971.05  1964.05  1952.11  14277083  2.787040e+15  362587.0   \n",
       "6202  1947.50  1947.80  1969.06  15062376  2.965870e+15  356793.0   \n",
       "6203  1957.00  1952.60  1946.67  11924527  2.321310e+15  266412.0   \n",
       "6204  1940.50  1929.80  1935.45  21845931  4.228160e+15  314085.0   \n",
       "\n",
       "      Deliverable Volume  %Deliverble  \n",
       "6200           5148955.0       0.2461  \n",
       "6201           3213843.0       0.2251  \n",
       "6202           3040444.0       0.2019  \n",
       "6203           3406506.0       0.2857  \n",
       "6204          12489338.0       0.5717  "
      ]
     },
     "execution_count": 6,
     "metadata": {},
     "output_type": "execute_result"
    }
   ],
   "source": [
    "data.tail()"
   ]
  },
  {
   "cell_type": "code",
   "execution_count": 7,
   "id": "55d3dd43",
   "metadata": {},
   "outputs": [
    {
     "data": {
      "text/html": [
       "<div>\n",
       "<style scoped>\n",
       "    .dataframe tbody tr th:only-of-type {\n",
       "        vertical-align: middle;\n",
       "    }\n",
       "\n",
       "    .dataframe tbody tr th {\n",
       "        vertical-align: top;\n",
       "    }\n",
       "\n",
       "    .dataframe thead th {\n",
       "        text-align: right;\n",
       "    }\n",
       "</style>\n",
       "<table border=\"1\" class=\"dataframe\">\n",
       "  <thead>\n",
       "    <tr style=\"text-align: right;\">\n",
       "      <th></th>\n",
       "      <th>Prev Close</th>\n",
       "      <th>Open</th>\n",
       "      <th>High</th>\n",
       "      <th>Low</th>\n",
       "      <th>Last</th>\n",
       "      <th>Close</th>\n",
       "      <th>VWAP</th>\n",
       "      <th>Volume</th>\n",
       "      <th>Turnover</th>\n",
       "      <th>Trades</th>\n",
       "      <th>Deliverable Volume</th>\n",
       "      <th>%Deliverble</th>\n",
       "    </tr>\n",
       "  </thead>\n",
       "  <tbody>\n",
       "    <tr>\n",
       "      <th>count</th>\n",
       "      <td>6205.000000</td>\n",
       "      <td>6205.000000</td>\n",
       "      <td>6205.000000</td>\n",
       "      <td>6205.000000</td>\n",
       "      <td>5657.000000</td>\n",
       "      <td>6205.000000</td>\n",
       "      <td>6205.000000</td>\n",
       "      <td>6.205000e+03</td>\n",
       "      <td>6.205000e+03</td>\n",
       "      <td>2.356000e+03</td>\n",
       "      <td>4.693000e+03</td>\n",
       "      <td>4693.000000</td>\n",
       "    </tr>\n",
       "    <tr>\n",
       "      <th>mean</th>\n",
       "      <td>864.978445</td>\n",
       "      <td>866.381176</td>\n",
       "      <td>878.763811</td>\n",
       "      <td>852.795649</td>\n",
       "      <td>925.596986</td>\n",
       "      <td>865.291289</td>\n",
       "      <td>865.851146</td>\n",
       "      <td>6.215219e+06</td>\n",
       "      <td>5.187662e+14</td>\n",
       "      <td>1.383690e+05</td>\n",
       "      <td>2.239901e+06</td>\n",
       "      <td>0.436332</td>\n",
       "    </tr>\n",
       "    <tr>\n",
       "      <th>std</th>\n",
       "      <td>588.711275</td>\n",
       "      <td>590.165211</td>\n",
       "      <td>599.625939</td>\n",
       "      <td>578.473998</td>\n",
       "      <td>581.604138</td>\n",
       "      <td>588.763023</td>\n",
       "      <td>588.941488</td>\n",
       "      <td>5.479271e+06</td>\n",
       "      <td>7.539147e+14</td>\n",
       "      <td>1.260736e+05</td>\n",
       "      <td>1.861021e+06</td>\n",
       "      <td>0.145526</td>\n",
       "    </tr>\n",
       "    <tr>\n",
       "      <th>min</th>\n",
       "      <td>0.000000</td>\n",
       "      <td>102.600000</td>\n",
       "      <td>105.600000</td>\n",
       "      <td>99.600000</td>\n",
       "      <td>101.600000</td>\n",
       "      <td>101.300000</td>\n",
       "      <td>101.840000</td>\n",
       "      <td>5.282000e+04</td>\n",
       "      <td>3.480000e+12</td>\n",
       "      <td>2.991000e+03</td>\n",
       "      <td>2.909700e+04</td>\n",
       "      <td>0.076300</td>\n",
       "    </tr>\n",
       "    <tr>\n",
       "      <th>25%</th>\n",
       "      <td>335.200000</td>\n",
       "      <td>335.000000</td>\n",
       "      <td>340.700000</td>\n",
       "      <td>329.500000</td>\n",
       "      <td>437.550000</td>\n",
       "      <td>335.350000</td>\n",
       "      <td>335.710000</td>\n",
       "      <td>3.021751e+06</td>\n",
       "      <td>1.840000e+14</td>\n",
       "      <td>7.119900e+04</td>\n",
       "      <td>1.178486e+06</td>\n",
       "      <td>0.323000</td>\n",
       "    </tr>\n",
       "    <tr>\n",
       "      <th>50%</th>\n",
       "      <td>850.650000</td>\n",
       "      <td>852.500000</td>\n",
       "      <td>862.000000</td>\n",
       "      <td>842.100000</td>\n",
       "      <td>892.350000</td>\n",
       "      <td>850.700000</td>\n",
       "      <td>851.680000</td>\n",
       "      <td>4.602904e+06</td>\n",
       "      <td>3.270000e+14</td>\n",
       "      <td>9.841550e+04</td>\n",
       "      <td>1.784092e+06</td>\n",
       "      <td>0.452300</td>\n",
       "    </tr>\n",
       "    <tr>\n",
       "      <th>75%</th>\n",
       "      <td>1089.400000</td>\n",
       "      <td>1091.100000</td>\n",
       "      <td>1107.000000</td>\n",
       "      <td>1073.950000</td>\n",
       "      <td>1129.900000</td>\n",
       "      <td>1089.850000</td>\n",
       "      <td>1089.480000</td>\n",
       "      <td>7.304408e+06</td>\n",
       "      <td>5.730000e+14</td>\n",
       "      <td>1.559778e+05</td>\n",
       "      <td>2.685974e+06</td>\n",
       "      <td>0.546300</td>\n",
       "    </tr>\n",
       "    <tr>\n",
       "      <th>max</th>\n",
       "      <td>3220.850000</td>\n",
       "      <td>3298.000000</td>\n",
       "      <td>3298.000000</td>\n",
       "      <td>3141.300000</td>\n",
       "      <td>3223.000000</td>\n",
       "      <td>3220.850000</td>\n",
       "      <td>3197.750000</td>\n",
       "      <td>6.523089e+07</td>\n",
       "      <td>1.473430e+16</td>\n",
       "      <td>1.428490e+06</td>\n",
       "      <td>3.495888e+07</td>\n",
       "      <td>0.978300</td>\n",
       "    </tr>\n",
       "  </tbody>\n",
       "</table>\n",
       "</div>"
      ],
      "text/plain": [
       "        Prev Close         Open         High          Low         Last  \\\n",
       "count  6205.000000  6205.000000  6205.000000  6205.000000  5657.000000   \n",
       "mean    864.978445   866.381176   878.763811   852.795649   925.596986   \n",
       "std     588.711275   590.165211   599.625939   578.473998   581.604138   \n",
       "min       0.000000   102.600000   105.600000    99.600000   101.600000   \n",
       "25%     335.200000   335.000000   340.700000   329.500000   437.550000   \n",
       "50%     850.650000   852.500000   862.000000   842.100000   892.350000   \n",
       "75%    1089.400000  1091.100000  1107.000000  1073.950000  1129.900000   \n",
       "max    3220.850000  3298.000000  3298.000000  3141.300000  3223.000000   \n",
       "\n",
       "             Close         VWAP        Volume      Turnover        Trades  \\\n",
       "count  6205.000000  6205.000000  6.205000e+03  6.205000e+03  2.356000e+03   \n",
       "mean    865.291289   865.851146  6.215219e+06  5.187662e+14  1.383690e+05   \n",
       "std     588.763023   588.941488  5.479271e+06  7.539147e+14  1.260736e+05   \n",
       "min     101.300000   101.840000  5.282000e+04  3.480000e+12  2.991000e+03   \n",
       "25%     335.350000   335.710000  3.021751e+06  1.840000e+14  7.119900e+04   \n",
       "50%     850.700000   851.680000  4.602904e+06  3.270000e+14  9.841550e+04   \n",
       "75%    1089.850000  1089.480000  7.304408e+06  5.730000e+14  1.559778e+05   \n",
       "max    3220.850000  3197.750000  6.523089e+07  1.473430e+16  1.428490e+06   \n",
       "\n",
       "       Deliverable Volume  %Deliverble  \n",
       "count        4.693000e+03  4693.000000  \n",
       "mean         2.239901e+06     0.436332  \n",
       "std          1.861021e+06     0.145526  \n",
       "min          2.909700e+04     0.076300  \n",
       "25%          1.178486e+06     0.323000  \n",
       "50%          1.784092e+06     0.452300  \n",
       "75%          2.685974e+06     0.546300  \n",
       "max          3.495888e+07     0.978300  "
      ]
     },
     "execution_count": 7,
     "metadata": {},
     "output_type": "execute_result"
    }
   ],
   "source": [
    "data.describe()"
   ]
  },
  {
   "cell_type": "code",
   "execution_count": 8,
   "id": "c72b5e2e",
   "metadata": {},
   "outputs": [
    {
     "data": {
      "text/plain": [
       "Date                  6205\n",
       "Symbol                6205\n",
       "Series                6205\n",
       "Prev Close            6205\n",
       "Open                  6205\n",
       "High                  6205\n",
       "Low                   6205\n",
       "Last                  5657\n",
       "Close                 6205\n",
       "VWAP                  6205\n",
       "Volume                6205\n",
       "Turnover              6205\n",
       "Trades                2356\n",
       "Deliverable Volume    4693\n",
       "%Deliverble           4693\n",
       "dtype: int64"
      ]
     },
     "execution_count": 8,
     "metadata": {},
     "output_type": "execute_result"
    }
   ],
   "source": [
    "data.count()"
   ]
  },
  {
   "cell_type": "code",
   "execution_count": 9,
   "id": "4604d734",
   "metadata": {},
   "outputs": [],
   "source": [
    "#converting close column to numeric type and dropping null rows\n",
    "data['Close']=pd.to_numeric(data.Close,errors='coerce')\n",
    "data=data.dropna()\n",
    "#taking all rows of close column\n",
    "train_data=data.iloc[:,4:5].values"
   ]
  },
  {
   "cell_type": "code",
   "execution_count": 10,
   "id": "d02f4a46",
   "metadata": {},
   "outputs": [
    {
     "name": "stdout",
     "output_type": "stream",
     "text": [
      "<class 'pandas.core.frame.DataFrame'>\n",
      "Int64Index: 2356 entries, 3849 to 6204\n",
      "Data columns (total 15 columns):\n",
      " #   Column              Non-Null Count  Dtype  \n",
      "---  ------              --------------  -----  \n",
      " 0   Date                2356 non-null   object \n",
      " 1   Symbol              2356 non-null   object \n",
      " 2   Series              2356 non-null   object \n",
      " 3   Prev Close          2356 non-null   float64\n",
      " 4   Open                2356 non-null   float64\n",
      " 5   High                2356 non-null   float64\n",
      " 6   Low                 2356 non-null   float64\n",
      " 7   Last                2356 non-null   float64\n",
      " 8   Close               2356 non-null   float64\n",
      " 9   VWAP                2356 non-null   float64\n",
      " 10  Volume              2356 non-null   int64  \n",
      " 11  Turnover            2356 non-null   float64\n",
      " 12  Trades              2356 non-null   float64\n",
      " 13  Deliverable Volume  2356 non-null   float64\n",
      " 14  %Deliverble         2356 non-null   float64\n",
      "dtypes: float64(11), int64(1), object(3)\n",
      "memory usage: 294.5+ KB\n"
     ]
    }
   ],
   "source": [
    "data.info()"
   ]
  },
  {
   "cell_type": "code",
   "execution_count": 11,
   "id": "e58b223f",
   "metadata": {},
   "outputs": [
    {
     "data": {
      "text/plain": [
       "array([[ 952.  ],\n",
       "       [ 936.55],\n",
       "       [ 960.5 ],\n",
       "       ...,\n",
       "       [1980.  ],\n",
       "       [1953.05],\n",
       "       [1940.5 ]])"
      ]
     },
     "execution_count": 11,
     "metadata": {},
     "output_type": "execute_result"
    }
   ],
   "source": [
    "train_data"
   ]
  },
  {
   "cell_type": "code",
   "execution_count": 12,
   "id": "1420ec0d",
   "metadata": {},
   "outputs": [
    {
     "data": {
      "text/plain": [
       "(2356, 1)"
      ]
     },
     "execution_count": 12,
     "metadata": {},
     "output_type": "execute_result"
    }
   ],
   "source": [
    "sc=MinMaxScaler(feature_range=(0,1))\n",
    "train_data=sc.fit_transform(train_data)\n",
    "train_data.shape"
   ]
  },
  {
   "cell_type": "code",
   "execution_count": 13,
   "id": "e2957528",
   "metadata": {},
   "outputs": [],
   "source": [
    "#preparing data for training\n",
    "x_train=[]\n",
    "y_train=[]\n",
    "for i in range(5,2356):\n",
    "    x_train.append(train_data[i-5:i,0])\n",
    "    y_train.append(train_data[i,0])\n",
    "x_train,y_train=np.array(x_train),np.array(y_train)"
   ]
  },
  {
   "cell_type": "code",
   "execution_count": 14,
   "id": "fd4e1124",
   "metadata": {},
   "outputs": [
    {
     "data": {
      "text/plain": [
       "(2351, 5, 1)"
      ]
     },
     "execution_count": 14,
     "metadata": {},
     "output_type": "execute_result"
    }
   ],
   "source": [
    "x_train=np.reshape(x_train,(x_train.shape[0],x_train.shape[1],1)) # adding the batch_size axis\n",
    "x_train.shape"
   ]
  },
  {
   "cell_type": "code",
   "execution_count": 15,
   "id": "eb091ffa",
   "metadata": {},
   "outputs": [
    {
     "name": "stderr",
     "output_type": "stream",
     "text": [
      "2023-10-16 12:03:35.930230: I tensorflow/core/platform/cpu_feature_guard.cc:145] This TensorFlow binary is optimized with Intel(R) MKL-DNN to use the following CPU instructions in performance critical operations:  SSE4.1 SSE4.2\n",
      "To enable them in non-MKL-DNN operations, rebuild TensorFlow with the appropriate compiler flags.\n",
      "2023-10-16 12:03:35.930669: I tensorflow/core/common_runtime/process_util.cc:115] Creating new thread pool with default inter op setting: 8. Tune using inter_op_parallelism_threads for best performance.\n"
     ]
    }
   ],
   "source": [
    "model=Sequential()\n",
    "\n",
    "model.add(LSTM(units=100,return_sequences=True,input_shape=(x_train.shape[1],1)))\n",
    "model.add(Dropout(0.2))\n",
    "\n",
    "model.add(LSTM(units=100,return_sequences=True))\n",
    "model.add(Dropout(0.2))\n",
    "\n",
    "model.add(LSTM(units=100,return_sequences=True))\n",
    "model.add(Dropout(0.2))\n",
    "\n",
    "model.add(LSTM(units=100,return_sequences=False))\n",
    "model.add(Dropout(0.2))\n",
    "\n",
    "model.add(Dense(units=1))\n",
    "model.compile(optimizer='adam',loss='mean_squared_error')"
   ]
  },
  {
   "cell_type": "code",
   "execution_count": 16,
   "id": "f295e8d3",
   "metadata": {},
   "outputs": [
    {
     "name": "stdout",
     "output_type": "stream",
     "text": [
      "Epoch 1/20\n",
      " - 149s - loss: 0.0042\n",
      "Epoch 2/20\n",
      " - 246s - loss: 0.0033\n",
      "Epoch 3/20\n",
      " - 241s - loss: 0.0026\n",
      "Epoch 4/20\n",
      " - 268s - loss: 0.0021\n",
      "Epoch 5/20\n",
      " - 271s - loss: 0.0020\n",
      "Epoch 6/20\n",
      " - 240s - loss: 0.0019\n",
      "Epoch 7/20\n",
      " - 256s - loss: 0.0017\n",
      "Epoch 8/20\n",
      " - 244s - loss: 0.0015\n",
      "Epoch 9/20\n",
      " - 248s - loss: 0.0014\n",
      "Epoch 10/20\n",
      " - 254s - loss: 0.0014\n",
      "Epoch 11/20\n",
      " - 262s - loss: 0.0015\n",
      "Epoch 12/20\n",
      " - 247s - loss: 0.0011\n",
      "Epoch 13/20\n",
      " - 250s - loss: 0.0013\n",
      "Epoch 14/20\n",
      " - 210s - loss: 0.0013\n",
      "Epoch 15/20\n",
      " - 259s - loss: 0.0012\n",
      "Epoch 16/20\n",
      " - 238s - loss: 0.0014\n",
      "Epoch 17/20\n",
      " - 215s - loss: 0.0012\n",
      "Epoch 18/20\n",
      " - 240s - loss: 0.0013\n",
      "Epoch 19/20\n",
      " - 251s - loss: 0.0012\n",
      "Epoch 20/20\n",
      " - 247s - loss: 0.0010\n"
     ]
    }
   ],
   "source": [
    "# training our model with train_size=20 \n",
    "hist=model.fit(x_train,y_train,epochs=20,batch_size=1,verbose=2)"
   ]
  },
  {
   "cell_type": "code",
   "execution_count": 17,
   "id": "c889a9d1",
   "metadata": {},
   "outputs": [
    {
     "data": {
      "image/png": "[encoded data removed]",
      "text/plain": [
       "<Figure size 640x480 with 1 Axes>"
      ]
     },
     "metadata": {},
     "output_type": "display_data"
    }
   ],
   "source": [
    "# visualizing the loss at each epoch\n",
    "plt.plot(hist.history['loss'])\n",
    "plt.title('Training Model loss')\n",
    "plt.xlabel('epoch')\n",
    "plt.ylabel('loss')\n",
    "plt.legend(['train'],loc='upper left')\n",
    "plt.show()"
   ]
  },
  {
   "cell_type": "code",
   "execution_count": 18,
   "id": "9c8e8c9d",
   "metadata": {},
   "outputs": [
    {
     "name": "stdout",
     "output_type": "stream",
     "text": [
      "[[ 955.25]\n",
      " [ 947.5 ]\n",
      " [ 955.1 ]\n",
      " ...\n",
      " [1980.  ]\n",
      " [1953.05]\n",
      " [1940.5 ]]\n",
      "(2356, 1)\n"
     ]
    },
    {
     "data": {
      "text/plain": [
       "(15, 5, 1)"
      ]
     },
     "execution_count": 18,
     "metadata": {},
     "output_type": "execute_result"
    }
   ],
   "source": [
    "# testing out model, using the test dataset\n",
    "testdata=pd.read_csv(\"/Users/pavankumar/Desktop/reliance_data.csv\")\n",
    "testdata['close']=pd.to_numeric(testdata.Close,errors='coerce')\n",
    "testdata=testdata.dropna()\n",
    "testdata=testdata.iloc[:,4:5]\n",
    "y_test=testdata.iloc[5:,0:].values\n",
    "print(y_test)\n",
    "inputclosing=testdata.iloc[:,0:].values\n",
    "inputclosing_scaled=sc.transform(inputclosing)\n",
    "print(inputclosing_scaled.shape)\n",
    "x_test=[]\n",
    "length=len(testdata)\n",
    "timestep=5\n",
    "for i in range(5,20):\n",
    "    x_test.append(inputclosing_scaled[i-5:i,0])\n",
    "x_test=np.array(x_test)\n",
    "x_test=np.reshape(x_test,(x_test.shape[0],x_test.shape[1],1))\n",
    "x_test.shape"
   ]
  },
  {
   "cell_type": "code",
   "execution_count": 20,
   "id": "d44fb45a",
   "metadata": {},
   "outputs": [],
   "source": [
    "y_pred=model.predict(x_test)"
   ]
  },
  {
   "cell_type": "code",
   "execution_count": 21,
   "id": "30e79183",
   "metadata": {},
   "outputs": [
    {
     "name": "stdout",
     "output_type": "stream",
     "text": [
      "[[927.255  ]\n",
      " [925.18   ]\n",
      " [931.3822 ]\n",
      " [935.7228 ]\n",
      " [921.6226 ]\n",
      " [919.87964]\n",
      " [904.3973 ]\n",
      " [896.01556]\n",
      " [885.66785]\n",
      " [869.32684]\n",
      " [842.9464 ]\n",
      " [844.14496]\n",
      " [829.33105]\n",
      " [850.5184 ]\n",
      " [829.12244]]\n"
     ]
    }
   ],
   "source": [
    "# to plot actual and predicted\n",
    "predicted_price=sc.inverse_transform(y_pred)\n",
    "print(predicted_price)"
   ]
  },
  {
   "cell_type": "code",
   "execution_count": 23,
   "id": "33ea2453",
   "metadata": {},
   "outputs": [
    {
     "data": {
      "image/png": "[encoded data removed]",
      "text/plain": [
       "<Figure size 640x480 with 1 Axes>"
      ]
     },
     "metadata": {},
     "output_type": "display_data"
    }
   ],
   "source": [
    "plt.plot(y_test,color='red')\n",
    "plt.plot(predicted_price,color='green')\n",
    "plt.xlabel('time')\n",
    "plt.ylabel('stcok price')\n",
    "plt.legend(['Actual stock price','predicted stock price'])\n",
    "plt.show()"
   ]
  },
  {
   "cell_type": "code",
   "execution_count": null,
   "id": "bfb280e9",
   "metadata": {},
   "outputs": [],
   "source": []
  }
 ],
 "metadata": {
  "kernelspec": {
   "display_name": "Python 3 (ipykernel)",
   "language": "python",
   "name": "python3"
  },
  "language_info": {
   "codemirror_mode": {
    "name": "ipython",
    "version": 3
   },
   "file_extension": ".py",
   "mimetype": "text/x-python",
   "name": "python",
   "nbconvert_exporter": "python",
   "pygments_lexer": "ipython3",
   "version": "3.7.16"
  }
 },
 "nbformat": 4,
 "nbformat_minor": 5
}
